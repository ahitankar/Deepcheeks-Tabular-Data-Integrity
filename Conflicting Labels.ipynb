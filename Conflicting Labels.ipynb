{
 "cells": [
  {
   "cell_type": "markdown",
   "id": "61240ff7",
   "metadata": {},
   "source": [
    "### What are Conflicting Labels? "
   ]
  },
  {
   "cell_type": "markdown",
   "id": "f5b5104f",
   "metadata": {},
   "source": [
    "The check searches for identical samples with different labels. This can occur due to either mislabeled data, or when the data collected is missing features necessary to separate the labels. If the data is mislabled, it can confuse the model and can result in lower performance of the model."
   ]
  },
  {
   "cell_type": "code",
   "execution_count": 3,
   "id": "ca571ec2",
   "metadata": {},
   "outputs": [],
   "source": [
    "import pandas as pd\n",
    "\n",
    "from deepchecks.tabular import Dataset\n",
    "from deepchecks.tabular.checks.integrity import ConflictingLabels\n",
    "from deepchecks.tabular.datasets.classification.phishing import load_data"
   ]
  },
  {
   "cell_type": "markdown",
   "id": "1b278b64",
   "metadata": {},
   "source": [
    "#### Load Data"
   ]
  },
  {
   "cell_type": "code",
   "execution_count": 4,
   "id": "ef36733c",
   "metadata": {
    "scrolled": true
   },
   "outputs": [
    {
     "name": "stderr",
     "output_type": "stream",
     "text": [
      "It is recommended to initialize Dataset with categorical features by doing \"Dataset(df, cat_features=categorical_list)\". No categorical features were passed, therefore heuristically inferring categorical features in the data.\n",
      "3 categorical features were inferred: numParams, num_%20, num_@\n"
     ]
    }
   ],
   "source": [
    "phishing_dataframe = load_data(as_train_test=False, data_format='Dataframe')\n",
    "phishing_dataset = Dataset(phishing_dataframe, label='target', features=['urlLength', 'numDigits', 'numParams', 'num_%20', 'num_@', 'bodyLength', 'numTitles', 'numImages', 'numLinks', 'specialChars'])"
   ]
  },
  {
   "cell_type": "markdown",
   "id": "ed921add",
   "metadata": {},
   "source": [
    "#### Run the Check"
   ]
  },
  {
   "cell_type": "code",
   "execution_count": 5,
   "id": "2989110d",
   "metadata": {},
   "outputs": [
    {
     "data": {
      "application/vnd.jupyter.widget-view+json": {
       "model_id": "df3d18fe373d414088b9e7b512d5ab3c",
       "version_major": 2,
       "version_minor": 0
      },
      "text/plain": [
       "VBox(children=(HTML(value='<h4><b>Conflicting Labels</b></h4>'), HTML(value=\"<p>Find samples which have the ex…"
      ]
     },
     "metadata": {},
     "output_type": "display_data"
    }
   ],
   "source": [
    "ConflictingLabels().run(phishing_dataset)"
   ]
  },
  {
   "cell_type": "code",
   "execution_count": 7,
   "id": "d832f80a",
   "metadata": {},
   "outputs": [
    {
     "data": {
      "application/vnd.jupyter.widget-view+json": {
       "model_id": "e4c7e2ea0b9e411aba42bf987c510301",
       "version_major": 2,
       "version_minor": 0
      },
      "text/plain": [
       "VBox(children=(HTML(value='<h4><b>Conflicting Labels</b></h4>'), HTML(value=\"<p>Find samples which have the ex…"
      ]
     },
     "metadata": {},
     "output_type": "display_data"
    }
   ],
   "source": [
    "ConflictingLabels(columns=['urlLength', 'numDigits']).run(phishing_dataset)"
   ]
  },
  {
   "cell_type": "markdown",
   "id": "7153370e",
   "metadata": {},
   "source": [
    "#### Add a condition to check"
   ]
  },
  {
   "cell_type": "code",
   "execution_count": 8,
   "id": "0e942678",
   "metadata": {},
   "outputs": [
    {
     "data": {
      "application/vnd.jupyter.widget-view+json": {
       "model_id": "8b5ce04b35ba4cc29d3f61dc2164bf1a",
       "version_major": 2,
       "version_minor": 0
      },
      "text/plain": [
       "VBox(children=(HTML(value='<h4><b>Conflicting Labels</b></h4>'), HTML(value=\"<p>Find samples which have the ex…"
      ]
     },
     "metadata": {},
     "output_type": "display_data"
    }
   ],
   "source": [
    "check = ConflictingLabels()\n",
    "check.add_condition_ratio_of_conflicting_labels_not_greater_than(0)\n",
    "result = check.run(phishing_dataset)\n",
    "result.show(show_additional_outputs=False)"
   ]
  },
  {
   "cell_type": "code",
   "execution_count": null,
   "id": "efe21cc4",
   "metadata": {},
   "outputs": [],
   "source": []
  }
 ],
 "metadata": {
  "kernelspec": {
   "display_name": "Python 3",
   "language": "python",
   "name": "python3"
  },
  "language_info": {
   "codemirror_mode": {
    "name": "ipython",
    "version": 3
   },
   "file_extension": ".py",
   "mimetype": "text/x-python",
   "name": "python",
   "nbconvert_exporter": "python",
   "pygments_lexer": "ipython3",
   "version": "3.8.8"
  }
 },
 "nbformat": 4,
 "nbformat_minor": 5
}
