{
 "cells": [
  {
   "cell_type": "markdown",
   "id": "8b797619",
   "metadata": {},
   "source": [
    "### What is a Dominant Frequency Change?"
   ]
  },
  {
   "cell_type": "markdown",
   "id": "bc881820",
   "metadata": {},
   "source": [
    "Dominant Frequency Change is a data integrity check which simply checks whether dominant values have increased significantly between test data and train data. Sharp changes in dominant values can indicate a problem with the data collection or data processing pipeline (for example, a sharp increase in a common null or constant value), and will cause the model to fail to generalize well. This check goal is to catch these issues early in the pipeline.\n",
    "\n",
    "This check compares the dominant values of each feature in the test data to the dominant values of the same feature in the train data. If the ratio of the test to train dominant values is greater than a threshold, the check fails. This threshold can be configured by specifying the ratio_change_thres parameter of the check."
   ]
  },
  {
   "cell_type": "markdown",
   "id": "d4609ef0",
   "metadata": {},
   "source": [
    "### The Definition of a Dominant Value"
   ]
  },
  {
   "cell_type": "markdown",
   "id": "f1032034",
   "metadata": {},
   "source": [
    "The dominant value is defined as a value that is frequent in data at least more than dominance_ratio times from the next most frequent value. The dominance_ratio is a configurable parameter of the check."
   ]
  },
  {
   "cell_type": "code",
   "execution_count": 1,
   "id": "373ff582",
   "metadata": {},
   "outputs": [],
   "source": [
    "from deepchecks.tabular.checks.integrity import DominantFrequencyChange\n",
    "from deepchecks.tabular.datasets.classification import phishing"
   ]
  },
  {
   "cell_type": "markdown",
   "id": "15d346c1",
   "metadata": {},
   "source": [
    "#### Load Data"
   ]
  },
  {
   "cell_type": "code",
   "execution_count": 2,
   "id": "f1a64d10",
   "metadata": {},
   "outputs": [],
   "source": [
    "train_ds, test_ds = phishing.load_data(data_format='Dataset', as_train_test=True)"
   ]
  },
  {
   "cell_type": "markdown",
   "id": "8557cbe3",
   "metadata": {},
   "source": [
    "#### Add Duplicates in the Test Data"
   ]
  },
  {
   "cell_type": "code",
   "execution_count": 9,
   "id": "f435dd8d",
   "metadata": {},
   "outputs": [],
   "source": [
    "test_ds.data.loc[test_ds.data.index % 2 == 0, 'urlLength'] = 5.1\n",
    "test_ds.data.loc[test_ds.data.index / 3 > 8, 'numDigits'] = 2.7"
   ]
  },
  {
   "cell_type": "code",
   "execution_count": 10,
   "id": "75a63396",
   "metadata": {},
   "outputs": [
    {
     "data": {
      "text/html": [
       "<div>\n",
       "<style scoped>\n",
       "    .dataframe tbody tr th:only-of-type {\n",
       "        vertical-align: middle;\n",
       "    }\n",
       "\n",
       "    .dataframe tbody tr th {\n",
       "        vertical-align: top;\n",
       "    }\n",
       "\n",
       "    .dataframe thead th {\n",
       "        text-align: right;\n",
       "    }\n",
       "</style>\n",
       "<table border=\"1\" class=\"dataframe\">\n",
       "  <thead>\n",
       "    <tr style=\"text-align: right;\">\n",
       "      <th></th>\n",
       "      <th>target</th>\n",
       "      <th>month</th>\n",
       "      <th>scrape_date</th>\n",
       "      <th>ext</th>\n",
       "      <th>urlLength</th>\n",
       "      <th>numDigits</th>\n",
       "      <th>numParams</th>\n",
       "      <th>num_%20</th>\n",
       "      <th>num_@</th>\n",
       "      <th>entropy</th>\n",
       "      <th>...</th>\n",
       "      <th>dse</th>\n",
       "      <th>bodyLength</th>\n",
       "      <th>numTitles</th>\n",
       "      <th>numImages</th>\n",
       "      <th>numLinks</th>\n",
       "      <th>specialChars</th>\n",
       "      <th>scriptLength</th>\n",
       "      <th>sbr</th>\n",
       "      <th>bscr</th>\n",
       "      <th>sscr</th>\n",
       "    </tr>\n",
       "  </thead>\n",
       "  <tbody>\n",
       "    <tr>\n",
       "      <th>8172</th>\n",
       "      <td>0</td>\n",
       "      <td>10</td>\n",
       "      <td>2019-10-01</td>\n",
       "      <td>country</td>\n",
       "      <td>5.1</td>\n",
       "      <td>2.7</td>\n",
       "      <td>0</td>\n",
       "      <td>0</td>\n",
       "      <td>0</td>\n",
       "      <td>-4.187942</td>\n",
       "      <td>...</td>\n",
       "      <td>0</td>\n",
       "      <td>0</td>\n",
       "      <td>0</td>\n",
       "      <td>0</td>\n",
       "      <td>0</td>\n",
       "      <td>0</td>\n",
       "      <td>0</td>\n",
       "      <td>0.000000</td>\n",
       "      <td>0.000000</td>\n",
       "      <td>0.000000</td>\n",
       "    </tr>\n",
       "    <tr>\n",
       "      <th>8173</th>\n",
       "      <td>0</td>\n",
       "      <td>10</td>\n",
       "      <td>2019-10-01</td>\n",
       "      <td>com</td>\n",
       "      <td>114.0</td>\n",
       "      <td>2.7</td>\n",
       "      <td>0</td>\n",
       "      <td>0</td>\n",
       "      <td>0</td>\n",
       "      <td>-4.632417</td>\n",
       "      <td>...</td>\n",
       "      <td>0</td>\n",
       "      <td>1432003</td>\n",
       "      <td>7</td>\n",
       "      <td>74</td>\n",
       "      <td>124</td>\n",
       "      <td>316311</td>\n",
       "      <td>924249</td>\n",
       "      <td>0.645424</td>\n",
       "      <td>0.220887</td>\n",
       "      <td>2.921963</td>\n",
       "    </tr>\n",
       "    <tr>\n",
       "      <th>8174</th>\n",
       "      <td>0</td>\n",
       "      <td>10</td>\n",
       "      <td>2019-10-01</td>\n",
       "      <td>com</td>\n",
       "      <td>5.1</td>\n",
       "      <td>2.7</td>\n",
       "      <td>0</td>\n",
       "      <td>0</td>\n",
       "      <td>0</td>\n",
       "      <td>-4.489435</td>\n",
       "      <td>...</td>\n",
       "      <td>254</td>\n",
       "      <td>23051</td>\n",
       "      <td>1</td>\n",
       "      <td>12</td>\n",
       "      <td>24</td>\n",
       "      <td>7256</td>\n",
       "      <td>12438</td>\n",
       "      <td>0.462568</td>\n",
       "      <td>0.269850</td>\n",
       "      <td>1.714168</td>\n",
       "    </tr>\n",
       "    <tr>\n",
       "      <th>8175</th>\n",
       "      <td>0</td>\n",
       "      <td>10</td>\n",
       "      <td>2019-10-01</td>\n",
       "      <td>com</td>\n",
       "      <td>87.0</td>\n",
       "      <td>2.7</td>\n",
       "      <td>0</td>\n",
       "      <td>0</td>\n",
       "      <td>0</td>\n",
       "      <td>-4.293408</td>\n",
       "      <td>...</td>\n",
       "      <td>1586</td>\n",
       "      <td>18432</td>\n",
       "      <td>1</td>\n",
       "      <td>65</td>\n",
       "      <td>157</td>\n",
       "      <td>6600</td>\n",
       "      <td>19360</td>\n",
       "      <td>0.704750</td>\n",
       "      <td>0.287369</td>\n",
       "      <td>2.452424</td>\n",
       "    </tr>\n",
       "    <tr>\n",
       "      <th>8176</th>\n",
       "      <td>0</td>\n",
       "      <td>10</td>\n",
       "      <td>2019-10-01</td>\n",
       "      <td>com</td>\n",
       "      <td>5.1</td>\n",
       "      <td>2.7</td>\n",
       "      <td>0</td>\n",
       "      <td>0</td>\n",
       "      <td>0</td>\n",
       "      <td>-4.301842</td>\n",
       "      <td>...</td>\n",
       "      <td>355</td>\n",
       "      <td>0</td>\n",
       "      <td>0</td>\n",
       "      <td>1</td>\n",
       "      <td>0</td>\n",
       "      <td>0</td>\n",
       "      <td>0</td>\n",
       "      <td>0.000000</td>\n",
       "      <td>0.000000</td>\n",
       "      <td>0.000000</td>\n",
       "    </tr>\n",
       "  </tbody>\n",
       "</table>\n",
       "<p>5 rows × 25 columns</p>\n",
       "</div>"
      ],
      "text/plain": [
       "      target  month scrape_date      ext  urlLength  numDigits  numParams  \\\n",
       "8172       0     10  2019-10-01  country        5.1        2.7          0   \n",
       "8173       0     10  2019-10-01      com      114.0        2.7          0   \n",
       "8174       0     10  2019-10-01      com        5.1        2.7          0   \n",
       "8175       0     10  2019-10-01      com       87.0        2.7          0   \n",
       "8176       0     10  2019-10-01      com        5.1        2.7          0   \n",
       "\n",
       "      num_%20  num_@   entropy  ...   dse  bodyLength  numTitles  numImages  \\\n",
       "8172        0      0 -4.187942  ...     0           0          0          0   \n",
       "8173        0      0 -4.632417  ...     0     1432003          7         74   \n",
       "8174        0      0 -4.489435  ...   254       23051          1         12   \n",
       "8175        0      0 -4.293408  ...  1586       18432          1         65   \n",
       "8176        0      0 -4.301842  ...   355           0          0          1   \n",
       "\n",
       "      numLinks  specialChars  scriptLength       sbr      bscr      sscr  \n",
       "8172         0             0             0  0.000000  0.000000  0.000000  \n",
       "8173       124        316311        924249  0.645424  0.220887  2.921963  \n",
       "8174        24          7256         12438  0.462568  0.269850  1.714168  \n",
       "8175       157          6600         19360  0.704750  0.287369  2.452424  \n",
       "8176         0             0             0  0.000000  0.000000  0.000000  \n",
       "\n",
       "[5 rows x 25 columns]"
      ]
     },
     "execution_count": 10,
     "metadata": {},
     "output_type": "execute_result"
    }
   ],
   "source": [
    "test_ds.data.head()"
   ]
  },
  {
   "cell_type": "markdown",
   "id": "03fe0450",
   "metadata": {},
   "source": [
    "#### Run The Check"
   ]
  },
  {
   "cell_type": "code",
   "execution_count": 11,
   "id": "42ebe776",
   "metadata": {},
   "outputs": [
    {
     "data": {
      "application/vnd.jupyter.widget-view+json": {
       "model_id": "1295926b64a74be897e776bcf5acfde6",
       "version_major": 2,
       "version_minor": 0
      },
      "text/plain": [
       "VBox(children=(HTML(value='<h4><b>Dominant Frequency Change</b></h4>'), HTML(value='<p>Check if dominant value…"
      ]
     },
     "metadata": {},
     "output_type": "display_data"
    }
   ],
   "source": [
    "check = DominantFrequencyChange()\n",
    "check.run(test_ds, train_ds)"
   ]
  },
  {
   "cell_type": "code",
   "execution_count": null,
   "id": "f0b127fc",
   "metadata": {},
   "outputs": [],
   "source": []
  },
  {
   "cell_type": "code",
   "execution_count": null,
   "id": "a3fa6968",
   "metadata": {},
   "outputs": [],
   "source": []
  }
 ],
 "metadata": {
  "kernelspec": {
   "display_name": "Python 3",
   "language": "python",
   "name": "python3"
  },
  "language_info": {
   "codemirror_mode": {
    "name": "ipython",
    "version": 3
   },
   "file_extension": ".py",
   "mimetype": "text/x-python",
   "name": "python",
   "nbconvert_exporter": "python",
   "pygments_lexer": "ipython3",
   "version": "3.8.8"
  }
 },
 "nbformat": 4,
 "nbformat_minor": 5
}
