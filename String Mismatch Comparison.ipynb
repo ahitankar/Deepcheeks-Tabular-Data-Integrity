{
 "cells": [
  {
   "cell_type": "markdown",
   "id": "121d9b8b",
   "metadata": {},
   "source": [
    "### What is the purpose of the check?"
   ]
  },
  {
   "cell_type": "markdown",
   "id": "7409f865",
   "metadata": {},
   "source": [
    "The check compares the same categorical column within train and test and checks whether there are variants of similar strings that exists only in test and not in train. Finding those mismatches is helpful to prevent errors when inferring on the test data. For example, in train data we have category ‘New York’, and in our test data we have ‘new york’. We would like to be acknowledged that the test data contain a new variant of the train data, so we can address the problem."
   ]
  },
  {
   "cell_type": "markdown",
   "id": "5028d992",
   "metadata": {},
   "source": [
    "### How String Mismatch Defined?"
   ]
  },
  {
   "cell_type": "markdown",
   "id": "0b2f8e87",
   "metadata": {},
   "source": [
    "To recognize string mismatch, we transform each string to it’s base form. The base form is the string with only its alphanumeric characters in lowercase. (For example “Cat-9?!” base form is “cat9”). If two strings have the same base form, they are considered to be the same."
   ]
  },
  {
   "cell_type": "code",
   "execution_count": 1,
   "id": "b5f9fbf0",
   "metadata": {},
   "outputs": [],
   "source": [
    "import pandas as pd\n",
    "from deepchecks.tabular.checks import StringMismatchComparison\n"
   ]
  },
  {
   "cell_type": "code",
   "execution_count": 2,
   "id": "39d54e46",
   "metadata": {},
   "outputs": [],
   "source": [
    "data = {'col1': ['Deep', 'deep', 'deep!!!', 'earth', 'foo', 'bar', 'foo?']}\n",
    "compared_data = {'col1': ['Deep', 'deep', '$deeP$', 'earth', 'foo', 'bar', 'foo?', '?deep']}\n"
   ]
  },
  {
   "cell_type": "code",
   "execution_count": 3,
   "id": "cfa0283b",
   "metadata": {},
   "outputs": [
    {
     "data": {
      "text/plain": [
       "{'col1': ['Deep', 'deep', 'deep!!!', 'earth', 'foo', 'bar', 'foo?']}"
      ]
     },
     "execution_count": 3,
     "metadata": {},
     "output_type": "execute_result"
    }
   ],
   "source": [
    "data"
   ]
  },
  {
   "cell_type": "code",
   "execution_count": 4,
   "id": "3da1ab2d",
   "metadata": {},
   "outputs": [
    {
     "data": {
      "text/plain": [
       "{'col1': ['Deep', 'deep', '$deeP$', 'earth', 'foo', 'bar', 'foo?', '?deep']}"
      ]
     },
     "execution_count": 4,
     "metadata": {},
     "output_type": "execute_result"
    }
   ],
   "source": [
    "compared_data"
   ]
  },
  {
   "cell_type": "code",
   "execution_count": 5,
   "id": "da9e72b7",
   "metadata": {},
   "outputs": [
    {
     "name": "stderr",
     "output_type": "stream",
     "text": [
      "Received a \"pandas.DataFrame\" instance, initializing \"deepchecks.tabular.Dataset\" from it\n",
      "It is recommended to initialize Dataset with categorical features by doing \"Dataset(df, cat_features=categorical_list)\". No categorical features were passed, therefore heuristically inferring categorical features in the data.\n",
      "0 categorical features were inferred\n",
      "Received a \"pandas.DataFrame\" instance, initializing \"deepchecks.tabular.Dataset\" from it\n",
      "It is recommended to initialize Dataset with categorical features by doing \"Dataset(df, cat_features=categorical_list)\". No categorical features were passed, therefore heuristically inferring categorical features in the data.\n",
      "0 categorical features were inferred\n"
     ]
    },
    {
     "data": {
      "application/vnd.jupyter.widget-view+json": {
       "model_id": "28bfab0a2bb243f4bdceeb207adafff1",
       "version_major": 2,
       "version_minor": 0
      },
      "text/plain": [
       "VBox(children=(HTML(value='<h4><b>String Mismatch Comparison</b></h4>'), HTML(value='<p>Detect different varia…"
      ]
     },
     "metadata": {},
     "output_type": "display_data"
    }
   ],
   "source": [
    "check = StringMismatchComparison()\n",
    "result = check.run(pd.DataFrame(data=data), pd.DataFrame(data=compared_data))\n",
    "result"
   ]
  },
  {
   "cell_type": "markdown",
   "id": "c49179b5",
   "metadata": {},
   "source": [
    "#### Add a condition for above check"
   ]
  },
  {
   "cell_type": "code",
   "execution_count": 6,
   "id": "cec633f8",
   "metadata": {
    "scrolled": true
   },
   "outputs": [
    {
     "name": "stderr",
     "output_type": "stream",
     "text": [
      "Received a \"pandas.DataFrame\" instance, initializing \"deepchecks.tabular.Dataset\" from it\n",
      "It is recommended to initialize Dataset with categorical features by doing \"Dataset(df, cat_features=categorical_list)\". No categorical features were passed, therefore heuristically inferring categorical features in the data.\n",
      "0 categorical features were inferred\n",
      "Received a \"pandas.DataFrame\" instance, initializing \"deepchecks.tabular.Dataset\" from it\n",
      "It is recommended to initialize Dataset with categorical features by doing \"Dataset(df, cat_features=categorical_list)\". No categorical features were passed, therefore heuristically inferring categorical features in the data.\n",
      "0 categorical features were inferred\n"
     ]
    },
    {
     "data": {
      "application/vnd.jupyter.widget-view+json": {
       "model_id": "b197bfb5d1944d30bb676f5a048c8704",
       "version_major": 2,
       "version_minor": 0
      },
      "text/plain": [
       "VBox(children=(HTML(value='<h4><b>String Mismatch Comparison</b></h4>'), HTML(value='<p>Detect different varia…"
      ]
     },
     "metadata": {},
     "output_type": "display_data"
    }
   ],
   "source": [
    "check = StringMismatchComparison().add_condition_no_new_variants()\n",
    "result = check.run(pd.DataFrame(data=data), pd.DataFrame(data=compared_data))\n",
    "result.show(show_additional_outputs=False)"
   ]
  },
  {
   "cell_type": "code",
   "execution_count": null,
   "id": "fabf7e48",
   "metadata": {},
   "outputs": [],
   "source": []
  }
 ],
 "metadata": {
  "kernelspec": {
   "display_name": "Python 3",
   "language": "python",
   "name": "python3"
  },
  "language_info": {
   "codemirror_mode": {
    "name": "ipython",
    "version": 3
   },
   "file_extension": ".py",
   "mimetype": "text/x-python",
   "name": "python",
   "nbconvert_exporter": "python",
   "pygments_lexer": "ipython3",
   "version": "3.8.8"
  }
 },
 "nbformat": 4,
 "nbformat_minor": 5
}
