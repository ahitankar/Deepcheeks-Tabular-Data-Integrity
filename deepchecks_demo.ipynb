{
 "cells": [
  {
   "cell_type": "code",
   "execution_count": 1,
   "id": "87901448",
   "metadata": {},
   "outputs": [
    {
     "name": "stdout",
     "output_type": "stream",
     "text": [
      "Collecting deepchecks\n",
      "  Downloading deepchecks-0.6.4-py3-none-any.whl (422 kB)\n",
      "Collecting importlib-resources>=1.3\n",
      "  Downloading importlib_resources-5.7.1-py3-none-any.whl (28 kB)\n",
      "Requirement already satisfied: typing-extensions>=3.7.4.3 in c:\\users\\aniket.itankar\\anaconda3\\lib\\site-packages (from deepchecks) (3.7.4.3)\n",
      "Collecting ipywidgets>=7.6.5\n",
      "  Downloading ipywidgets-7.7.0-py2.py3-none-any.whl (123 kB)\n",
      "Collecting tqdm>=4.62.3\n",
      "  Downloading tqdm-4.64.0-py2.py3-none-any.whl (78 kB)\n",
      "Requirement already satisfied: statsmodels>=0.11.0 in c:\\users\\aniket.itankar\\anaconda3\\lib\\site-packages (from deepchecks) (0.12.2)\n",
      "Requirement already satisfied: pandas>=1.1.5 in c:\\users\\aniket.itankar\\anaconda3\\lib\\site-packages (from deepchecks) (1.2.4)\n",
      "Collecting jsonpickle>=2\n",
      "  Downloading jsonpickle-2.2.0-py2.py3-none-any.whl (39 kB)\n",
      "Requirement already satisfied: scipy>=1.4.1 in c:\\users\\aniket.itankar\\anaconda3\\lib\\site-packages (from deepchecks) (1.6.2)\n",
      "Requirement already satisfied: scikit-learn>=0.23.2 in c:\\users\\aniket.itankar\\anaconda3\\lib\\site-packages (from deepchecks) (0.24.1)\n",
      "Requirement already satisfied: numpy>=1.19 in c:\\users\\aniket.itankar\\anaconda3\\lib\\site-packages (from deepchecks) (1.20.1)\n",
      "Collecting PyNomaly>=0.3.3\n",
      "  Downloading PyNomaly-0.3.3.tar.gz (8.3 kB)\n",
      "Requirement already satisfied: ipykernel>=5.3.0 in c:\\users\\aniket.itankar\\anaconda3\\lib\\site-packages (from deepchecks) (5.3.4)\n",
      "Requirement already satisfied: matplotlib>=3.3.4 in c:\\users\\aniket.itankar\\anaconda3\\lib\\site-packages (from deepchecks) (3.3.4)\n",
      "Collecting category-encoders>=2.3.0\n",
      "  Downloading category_encoders-2.4.1-py2.py3-none-any.whl (80 kB)\n",
      "Collecting plotly==5.5.0\n",
      "  Downloading plotly-5.5.0-py2.py3-none-any.whl (26.5 MB)\n",
      "Requirement already satisfied: ipython<8,>=7.15.0 in c:\\users\\aniket.itankar\\anaconda3\\lib\\site-packages (from deepchecks) (7.22.0)\n",
      "Requirement already satisfied: six in c:\\users\\aniket.itankar\\anaconda3\\lib\\site-packages (from plotly==5.5.0->deepchecks) (1.15.0)\n",
      "Collecting tenacity>=6.2.0\n",
      "  Downloading tenacity-8.0.1-py3-none-any.whl (24 kB)\n",
      "Requirement already satisfied: patsy>=0.5.1 in c:\\users\\aniket.itankar\\anaconda3\\lib\\site-packages (from category-encoders>=2.3.0->deepchecks) (0.5.1)\n",
      "Requirement already satisfied: zipp>=3.1.0 in c:\\users\\aniket.itankar\\anaconda3\\lib\\site-packages (from importlib-resources>=1.3->deepchecks) (3.4.1)\n",
      "Requirement already satisfied: traitlets>=4.1.0 in c:\\users\\aniket.itankar\\anaconda3\\lib\\site-packages (from ipykernel>=5.3.0->deepchecks) (5.0.5)\n",
      "Requirement already satisfied: jupyter-client in c:\\users\\aniket.itankar\\anaconda3\\lib\\site-packages (from ipykernel>=5.3.0->deepchecks) (6.1.12)\n",
      "Requirement already satisfied: tornado>=4.2 in c:\\users\\aniket.itankar\\anaconda3\\lib\\site-packages (from ipykernel>=5.3.0->deepchecks) (6.1)\n",
      "Requirement already satisfied: jedi>=0.16 in c:\\users\\aniket.itankar\\anaconda3\\lib\\site-packages (from ipython<8,>=7.15.0->deepchecks) (0.17.2)\n",
      "Requirement already satisfied: pickleshare in c:\\users\\aniket.itankar\\anaconda3\\lib\\site-packages (from ipython<8,>=7.15.0->deepchecks) (0.7.5)\n",
      "Requirement already satisfied: setuptools>=18.5 in c:\\users\\aniket.itankar\\anaconda3\\lib\\site-packages (from ipython<8,>=7.15.0->deepchecks) (52.0.0.post20210125)\n",
      "Requirement already satisfied: colorama in c:\\users\\aniket.itankar\\anaconda3\\lib\\site-packages (from ipython<8,>=7.15.0->deepchecks) (0.4.4)\n",
      "Requirement already satisfied: pygments in c:\\users\\aniket.itankar\\anaconda3\\lib\\site-packages (from ipython<8,>=7.15.0->deepchecks) (2.8.1)\n",
      "Requirement already satisfied: backcall in c:\\users\\aniket.itankar\\anaconda3\\lib\\site-packages (from ipython<8,>=7.15.0->deepchecks) (0.2.0)\n",
      "Requirement already satisfied: prompt-toolkit!=3.0.0,!=3.0.1,<3.1.0,>=2.0.0 in c:\\users\\aniket.itankar\\anaconda3\\lib\\site-packages (from ipython<8,>=7.15.0->deepchecks) (3.0.17)\n",
      "Requirement already satisfied: decorator in c:\\users\\aniket.itankar\\anaconda3\\lib\\site-packages (from ipython<8,>=7.15.0->deepchecks) (5.0.6)\n",
      "Collecting widgetsnbextension~=3.6.0\n",
      "  Downloading widgetsnbextension-3.6.0-py2.py3-none-any.whl (1.6 MB)\n",
      "Requirement already satisfied: nbformat>=4.2.0 in c:\\users\\aniket.itankar\\anaconda3\\lib\\site-packages (from ipywidgets>=7.6.5->deepchecks) (5.1.3)\n",
      "Requirement already satisfied: ipython-genutils~=0.2.0 in c:\\users\\aniket.itankar\\anaconda3\\lib\\site-packages (from ipywidgets>=7.6.5->deepchecks) (0.2.0)\n",
      "Requirement already satisfied: jupyterlab-widgets>=1.0.0 in c:\\users\\aniket.itankar\\anaconda3\\lib\\site-packages (from ipywidgets>=7.6.5->deepchecks) (1.0.0)\n",
      "Note: you may need to restart the kernel to use updated packages.Requirement already satisfied: parso<0.8.0,>=0.7.0 in c:\\users\\aniket.itankar\\anaconda3\\lib\\site-packages (from jedi>=0.16->ipython<8,>=7.15.0->deepchecks) (0.7.0)\n",
      "Requirement already satisfied: python-dateutil>=2.1 in c:\\users\\aniket.itankar\\anaconda3\\lib\\site-packages (from matplotlib>=3.3.4->deepchecks) (2.8.1)\n",
      "Requirement already satisfied: kiwisolver>=1.0.1 in c:\\users\\aniket.itankar\\anaconda3\\lib\\site-packages (from matplotlib>=3.3.4->deepchecks) (1.3.1)\n",
      "Requirement already satisfied: pillow>=6.2.0 in c:\\users\\aniket.itankar\\anaconda3\\lib\\site-packages (from matplotlib>=3.3.4->deepchecks) (8.2.0)\n",
      "Requirement already satisfied: pyparsing!=2.0.4,!=2.1.2,!=2.1.6,>=2.0.3 in c:\\users\\aniket.itankar\\anaconda3\\lib\\site-packages (from matplotlib>=3.3.4->deepchecks) (2.4.7)\n",
      "Requirement already satisfied: cycler>=0.10 in c:\\users\\aniket.itankar\\anaconda3\\lib\\site-packages (from matplotlib>=3.3.4->deepchecks) (0.10.0)\n",
      "Requirement already satisfied: jsonschema!=2.5.0,>=2.4 in c:\\users\\aniket.itankar\\anaconda3\\lib\\site-packages (from nbformat>=4.2.0->ipywidgets>=7.6.5->deepchecks) (3.2.0)\n",
      "Requirement already satisfied: jupyter-core in c:\\users\\aniket.itankar\\anaconda3\\lib\\site-packages (from nbformat>=4.2.0->ipywidgets>=7.6.5->deepchecks) (4.7.1)\n",
      "Requirement already satisfied: pyrsistent>=0.14.0 in c:\\users\\aniket.itankar\\anaconda3\\lib\\site-packages (from jsonschema!=2.5.0,>=2.4->nbformat>=4.2.0->ipywidgets>=7.6.5->deepchecks) (0.17.3)\n",
      "Requirement already satisfied: attrs>=17.4.0 in c:\\users\\aniket.itankar\\anaconda3\\lib\\site-packages (from jsonschema!=2.5.0,>=2.4->nbformat>=4.2.0->ipywidgets>=7.6.5->deepchecks) (20.3.0)\n",
      "Requirement already satisfied: pytz>=2017.3 in c:\\users\\aniket.itankar\\anaconda3\\lib\\site-packages (from pandas>=1.1.5->deepchecks) (2021.1)\n",
      "Requirement already satisfied: wcwidth in c:\\users\\aniket.itankar\\anaconda3\\lib\\site-packages (from prompt-toolkit!=3.0.0,!=3.0.1,<3.1.0,>=2.0.0->ipython<8,>=7.15.0->deepchecks) (0.2.5)\n",
      "Collecting python-utils\n",
      "  Downloading python_utils-3.2.2-py2.py3-none-any.whl (20 kB)\n",
      "Requirement already satisfied: threadpoolctl>=2.0.0 in c:\\users\\aniket.itankar\\anaconda3\\lib\\site-packages (from scikit-learn>=0.23.2->deepchecks) (2.1.0)\n",
      "Requirement already satisfied: joblib>=0.11 in c:\\users\\aniket.itankar\\anaconda3\\lib\\site-packages (from scikit-learn>=0.23.2->deepchecks) (1.0.1)\n",
      "Requirement already satisfied: notebook>=4.4.1 in c:\\users\\aniket.itankar\\anaconda3\\lib\\site-packages (from widgetsnbextension~=3.6.0->ipywidgets>=7.6.5->deepchecks) (6.3.0)\n",
      "Requirement already satisfied: nbconvert in c:\\users\\aniket.itankar\\anaconda3\\lib\\site-packages (from notebook>=4.4.1->widgetsnbextension~=3.6.0->ipywidgets>=7.6.5->deepchecks) (6.0.7)\n",
      "Requirement already satisfied: Send2Trash>=1.5.0 in c:\\users\\aniket.itankar\\anaconda3\\lib\\site-packages (from notebook>=4.4.1->widgetsnbextension~=3.6.0->ipywidgets>=7.6.5->deepchecks) (1.5.0)\n",
      "Requirement already satisfied: jinja2 in c:\\users\\aniket.itankar\\anaconda3\\lib\\site-packages (from notebook>=4.4.1->widgetsnbextension~=3.6.0->ipywidgets>=7.6.5->deepchecks) (2.11.3)\n",
      "Requirement already satisfied: pyzmq>=17 in c:\\users\\aniket.itankar\\anaconda3\\lib\\site-packages (from notebook>=4.4.1->widgetsnbextension~=3.6.0->ipywidgets>=7.6.5->deepchecks) (20.0.0)\n",
      "Requirement already satisfied: argon2-cffi in c:\\users\\aniket.itankar\\anaconda3\\lib\\site-packages (from notebook>=4.4.1->widgetsnbextension~=3.6.0->ipywidgets>=7.6.5->deepchecks) (20.1.0)\n",
      "Requirement already satisfied: prometheus-client in c:\\users\\aniket.itankar\\anaconda3\\lib\\site-packages (from notebook>=4.4.1->widgetsnbextension~=3.6.0->ipywidgets>=7.6.5->deepchecks) (0.10.1)\n",
      "Requirement already satisfied: terminado>=0.8.3 in c:\\users\\aniket.itankar\\anaconda3\\lib\\site-packages (from notebook>=4.4.1->widgetsnbextension~=3.6.0->ipywidgets>=7.6.5->deepchecks) (0.9.4)\n",
      "Requirement already satisfied: pywin32>=1.0 in c:\\users\\aniket.itankar\\anaconda3\\lib\\site-packages (from jupyter-core->nbformat>=4.2.0->ipywidgets>=7.6.5->deepchecks) (227)\n",
      "Requirement already satisfied: pywinpty>=0.5 in c:\\users\\aniket.itankar\\anaconda3\\lib\\site-packages (from terminado>=0.8.3->notebook>=4.4.1->widgetsnbextension~=3.6.0->ipywidgets>=7.6.5->deepchecks) (0.5.7)\n",
      "Requirement already satisfied: cffi>=1.0.0 in c:\\users\\aniket.itankar\\anaconda3\\lib\\site-packages (from argon2-cffi->notebook>=4.4.1->widgetsnbextension~=3.6.0->ipywidgets>=7.6.5->deepchecks) (1.14.5)\n",
      "Requirement already satisfied: pycparser in c:\\users\\aniket.itankar\\anaconda3\\lib\\site-packages (from cffi>=1.0.0->argon2-cffi->notebook>=4.4.1->widgetsnbextension~=3.6.0->ipywidgets>=7.6.5->deepchecks) (2.20)\n",
      "Requirement already satisfied: MarkupSafe>=0.23 in c:\\users\\aniket.itankar\\anaconda3\\lib\\site-packages (from jinja2->notebook>=4.4.1->widgetsnbextension~=3.6.0->ipywidgets>=7.6.5->deepchecks) (1.1.1)\n",
      "Requirement already satisfied: bleach in c:\\users\\aniket.itankar\\anaconda3\\lib\\site-packages (from nbconvert->notebook>=4.4.1->widgetsnbextension~=3.6.0->ipywidgets>=7.6.5->deepchecks) (3.3.0)\n",
      "Requirement already satisfied: testpath in c:\\users\\aniket.itankar\\anaconda3\\lib\\site-packages (from nbconvert->notebook>=4.4.1->widgetsnbextension~=3.6.0->ipywidgets>=7.6.5->deepchecks) (0.4.4)\n",
      "Requirement already satisfied: nbclient<0.6.0,>=0.5.0 in c:\\users\\aniket.itankar\\anaconda3\\lib\\site-packages (from nbconvert->notebook>=4.4.1->widgetsnbextension~=3.6.0->ipywidgets>=7.6.5->deepchecks) (0.5.3)\n",
      "Requirement already satisfied: mistune<2,>=0.8.1 in c:\\users\\aniket.itankar\\anaconda3\\lib\\site-packages (from nbconvert->notebook>=4.4.1->widgetsnbextension~=3.6.0->ipywidgets>=7.6.5->deepchecks) (0.8.4)\n",
      "Requirement already satisfied: pandocfilters>=1.4.1 in c:\\users\\aniket.itankar\\anaconda3\\lib\\site-packages (from nbconvert->notebook>=4.4.1->widgetsnbextension~=3.6.0->ipywidgets>=7.6.5->deepchecks) (1.4.3)\n",
      "Requirement already satisfied: jupyterlab-pygments in c:\\users\\aniket.itankar\\anaconda3\\lib\\site-packages (from nbconvert->notebook>=4.4.1->widgetsnbextension~=3.6.0->ipywidgets>=7.6.5->deepchecks) (0.1.2)\n",
      "Requirement already satisfied: entrypoints>=0.2.2 in c:\\users\\aniket.itankar\\anaconda3\\lib\\site-packages (from nbconvert->notebook>=4.4.1->widgetsnbextension~=3.6.0->ipywidgets>=7.6.5->deepchecks) (0.3)\n",
      "Requirement already satisfied: defusedxml in c:\\users\\aniket.itankar\\anaconda3\\lib\\site-packages (from nbconvert->notebook>=4.4.1->widgetsnbextension~=3.6.0->ipywidgets>=7.6.5->deepchecks) (0.7.1)\n",
      "Requirement already satisfied: async-generator in c:\\users\\aniket.itankar\\anaconda3\\lib\\site-packages (from nbclient<0.6.0,>=0.5.0->nbconvert->notebook>=4.4.1->widgetsnbextension~=3.6.0->ipywidgets>=7.6.5->deepchecks) (1.10)\n",
      "Requirement already satisfied: nest-asyncio in c:\\users\\aniket.itankar\\anaconda3\\lib\\site-packages (from nbclient<0.6.0,>=0.5.0->nbconvert->notebook>=4.4.1->widgetsnbextension~=3.6.0->ipywidgets>=7.6.5->deepchecks) (1.5.1)\n",
      "Requirement already satisfied: webencodings in c:\\users\\aniket.itankar\\anaconda3\\lib\\site-packages (from bleach->nbconvert->notebook>=4.4.1->widgetsnbextension~=3.6.0->ipywidgets>=7.6.5->deepchecks) (0.5.1)\n",
      "Requirement already satisfied: packaging in c:\\users\\aniket.itankar\\anaconda3\\lib\\site-packages (from bleach->nbconvert->notebook>=4.4.1->widgetsnbextension~=3.6.0->ipywidgets>=7.6.5->deepchecks) (20.9)\n",
      "Building wheels for collected packages: PyNomaly\n",
      "  Building wheel for PyNomaly (setup.py): started\n",
      "  Building wheel for PyNomaly (setup.py): finished with status 'done'\n",
      "  Created wheel for PyNomaly: filename=PyNomaly-0.3.3-py3-none-any.whl size=8499 sha256=dcb85ad3a106925b04f92f8d48b36206b6a0cc2ae2d9e244f6f394a723e9a1f4\n",
      "  Stored in directory: c:\\users\\aniket.itankar\\appdata\\local\\pip\\cache\\wheels\\94\\d5\\46\\3eb798d0a1f9e0e7016171f14b4a48f68e85f23e874bb4f02b\n",
      "Successfully built PyNomaly\n",
      "Installing collected packages: widgetsnbextension, tenacity, python-utils, tqdm, PyNomaly, plotly, jsonpickle, ipywidgets, importlib-resources, category-encoders, deepchecks\n",
      "  Attempting uninstall: widgetsnbextension\n",
      "    Found existing installation: widgetsnbextension 3.5.1\n",
      "    Uninstalling widgetsnbextension-3.5.1:\n",
      "      Successfully uninstalled widgetsnbextension-3.5.1\n",
      "  Attempting uninstall: tqdm\n",
      "    Found existing installation: tqdm 4.59.0\n",
      "    Uninstalling tqdm-4.59.0:\n",
      "      Successfully uninstalled tqdm-4.59.0\n",
      "  Attempting uninstall: ipywidgets\n",
      "    Found existing installation: ipywidgets 7.6.3\n",
      "    Uninstalling ipywidgets-7.6.3:\n",
      "      Successfully uninstalled ipywidgets-7.6.3\n",
      "Successfully installed PyNomaly-0.3.3 category-encoders-2.4.1 deepchecks-0.6.4 importlib-resources-5.7.1 ipywidgets-7.7.0 jsonpickle-2.2.0 plotly-5.5.0 python-utils-3.2.2 tenacity-8.0.1 tqdm-4.64.0 widgetsnbextension-3.6.0\n",
      "\n"
     ]
    }
   ],
   "source": [
    "pip install deepchecks "
   ]
  },
  {
   "cell_type": "code",
   "execution_count": 1,
   "id": "59426d10",
   "metadata": {},
   "outputs": [],
   "source": [
    "import numpy as np\n",
    "# General imports\n",
    "import pandas as pd\n",
    "from sklearn.ensemble import RandomForestClassifier\n",
    "from sklearn.model_selection import train_test_split"
   ]
  },
  {
   "cell_type": "code",
   "execution_count": null,
   "id": "777fb2cf",
   "metadata": {},
   "outputs": [],
   "source": [
    "#load dataset"
   ]
  },
  {
   "cell_type": "code",
   "execution_count": 2,
   "id": "d3fd4757",
   "metadata": {},
   "outputs": [],
   "source": [
    "from deepchecks.tabular.datasets.classification import iris\n"
   ]
  },
  {
   "cell_type": "code",
   "execution_count": 3,
   "id": "524c239b",
   "metadata": {},
   "outputs": [],
   "source": [
    "iris_df = iris.load_data(data_format='Dataframe', as_train_test=False)\n",
    "label_col = 'target'\n",
    "df_train, df_test = train_test_split(iris_df, stratify=iris_df[label_col], random_state=0)\n",
    "\n",
    "# Train Model\n",
    "rf_clf = RandomForestClassifier(random_state=0)\n",
    "rf_clf.fit(df_train.drop(label_col, axis=1), df_train[label_col]);"
   ]
  },
  {
   "cell_type": "code",
   "execution_count": 4,
   "id": "59c34d45",
   "metadata": {},
   "outputs": [],
   "source": [
    "from deepchecks.tabular import Dataset\n",
    "\n",
    "ds_train = Dataset(df_train, label=label_col, cat_features=[])\n",
    "ds_test =  Dataset(df_test,  label=label_col, cat_features=[])"
   ]
  },
  {
   "cell_type": "code",
   "execution_count": 5,
   "id": "be52da46",
   "metadata": {},
   "outputs": [],
   "source": [
    "from deepchecks.tabular.suites import full_suite\n",
    "\n",
    "suite = full_suite()"
   ]
  },
  {
   "cell_type": "code",
   "execution_count": 6,
   "id": "c4f07a28",
   "metadata": {},
   "outputs": [
    {
     "data": {
      "application/vnd.jupyter.widget-view+json": {
       "model_id": "",
       "version_major": 2,
       "version_minor": 0
      },
      "text/plain": [
       "Full Suite:   0%|          | 0/36 [00:00<?, ? Check/s]"
      ]
     },
     "metadata": {},
     "output_type": "display_data"
    },
    {
     "name": "stdout",
     "output_type": "stream",
     "text": [
      "Calculating permutation feature importance. Expected to finish in 1 seconds\n"
     ]
    }
   ],
   "source": [
    "suite_result=suite.run(train_dataset=ds_train, test_dataset=ds_test, model=rf_clf)"
   ]
  },
  {
   "cell_type": "code",
   "execution_count": 3,
   "id": "6fd577cc",
   "metadata": {},
   "outputs": [],
   "source": [
    "train_dataset, test_dataset = iris.load_data()"
   ]
  },
  {
   "cell_type": "code",
   "execution_count": 4,
   "id": "7c86b874",
   "metadata": {},
   "outputs": [],
   "source": [
    "from deepchecks.tabular.suites import full_suite\n",
    "\n",
    "suite = full_suite()"
   ]
  },
  {
   "cell_type": "code",
   "execution_count": 5,
   "id": "61f6b290",
   "metadata": {
    "scrolled": false
   },
   "outputs": [
    {
     "data": {
      "application/vnd.jupyter.widget-view+json": {
       "model_id": "",
       "version_major": 2,
       "version_minor": 0
      },
      "text/plain": [
       "Full Suite:   0%|          | 0/36 [00:00<?, ? Check/s]"
      ]
     },
     "metadata": {},
     "output_type": "display_data"
    },
    {
     "name": "stdout",
     "output_type": "stream",
     "text": [
      "Calculating permutation feature importance. Expected to finish in 1 seconds\n"
     ]
    }
   ],
   "source": [
    "suite_result=suite.run(train_dataset=train_dataset, test_dataset=test_dataset)"
   ]
  },
  {
   "cell_type": "code",
   "execution_count": 7,
   "id": "252b424f",
   "metadata": {
    "scrolled": true
   },
   "outputs": [
    {
     "data": {
      "text/plain": [
       "'my_suite.html'"
      ]
     },
     "execution_count": 7,
     "metadata": {},
     "output_type": "execute_result"
    }
   ],
   "source": [
    "suite_result.save_as_html('my_suite.html')"
   ]
  },
  {
   "cell_type": "code",
   "execution_count": 7,
   "id": "b043b61e",
   "metadata": {},
   "outputs": [
    {
     "data": {
      "application/vnd.jupyter.widget-view+json": {
       "model_id": "edc2c988c2f74e1b8585b55bedab405a",
       "version_major": 2,
       "version_minor": 0
      },
      "text/plain": [
       "VBox(children=(HTML(value='<style>.jupyter-widgets.widget-tab > .p-TabBar .p-TabBar-tab {flex: 0 1 auto}</styl…"
      ]
     },
     "metadata": {},
     "output_type": "display_data"
    }
   ],
   "source": [
    "suite_result"
   ]
  },
  {
   "cell_type": "code",
   "execution_count": 8,
   "id": "24fe2f5f",
   "metadata": {},
   "outputs": [],
   "source": [
    "from deepchecks.tabular.checks import TrainTestLabelDrift"
   ]
  },
  {
   "cell_type": "code",
   "execution_count": 10,
   "id": "474f8715",
   "metadata": {},
   "outputs": [
    {
     "data": {
      "application/vnd.jupyter.widget-view+json": {
       "model_id": "47a08bc106534b52a0aec80ad8ede71e",
       "version_major": 2,
       "version_minor": 0
      },
      "text/plain": [
       "VBox(children=(HTML(value='<h4><b>Train Test Label Drift</b></h4>'), HTML(value='<p>    Calculate label drift …"
      ]
     },
     "metadata": {},
     "output_type": "display_data"
    }
   ],
   "source": [
    "check = TrainTestLabelDrift()\n",
    "result = check.run(ds_train, ds_test)\n",
    "result"
   ]
  },
  {
   "cell_type": "raw",
   "id": "6d6c69e4",
   "metadata": {},
   "source": []
  },
  {
   "cell_type": "code",
   "execution_count": 11,
   "id": "f6c1affa",
   "metadata": {},
   "outputs": [
    {
     "data": {
      "text/plain": [
       "{'Drift score': 0.002507306267756066, 'Method': 'PSI'}"
      ]
     },
     "execution_count": 11,
     "metadata": {},
     "output_type": "execute_result"
    }
   ],
   "source": [
    "result.value"
   ]
  },
  {
   "cell_type": "code",
   "execution_count": 16,
   "id": "596a59cd",
   "metadata": {},
   "outputs": [
    {
     "data": {
      "text/plain": [
       "{'Drift score': 0.002507306267756066, 'Method': 'PSI'}"
      ]
     },
     "execution_count": 16,
     "metadata": {},
     "output_type": "execute_result"
    }
   ],
   "source": [
    "result.value"
   ]
  },
  {
   "cell_type": "code",
   "execution_count": 17,
   "id": "92e10ea8",
   "metadata": {},
   "outputs": [
    {
     "data": {
      "text/plain": [
       "Full Suite: [\n",
       "\t0: ModelInfo\n",
       "\t1: ColumnsInfo\n",
       "\t2: ConfusionMatrixReport\n",
       "\t3: PerformanceReport\n",
       "\t\tConditions:\n",
       "\t\t\t0: Train-Test scores relative degradation is not greater than 0.1\n",
       "\t4: RocReport(excluded_classes=[])\n",
       "\t\tConditions:\n",
       "\t\t\t0: AUC score for all the classes is not less than 0.7\n",
       "\t5: SimpleModelComparison\n",
       "\t\tConditions:\n",
       "\t\t\t0: Model performance gain over simple model is not less than 10%\n",
       "\t6: ModelErrorAnalysis\n",
       "\t\tConditions:\n",
       "\t\t\t0: The performance difference of the detected segments must not be greater than 5%\n",
       "\t7: CalibrationScore\n",
       "\t8: RegressionSystematicError\n",
       "\t\tConditions:\n",
       "\t\t\t0: Bias ratio is not greater than 0.01\n",
       "\t9: RegressionErrorDistribution\n",
       "\t\tConditions:\n",
       "\t\t\t0: Kurtosis value is not less than -0.1\n",
       "\t10: BoostingOverfit\n",
       "\t\tConditions:\n",
       "\t\t\t0: Test score over iterations doesn't decline by more than 5% from the best score\n",
       "\t11: UnusedFeatures\n",
       "\t\tConditions:\n",
       "\t\t\t0: Number of high variance unused features is not greater than 5\n",
       "\t12: ModelInferenceTime\n",
       "\t\tConditions:\n",
       "\t\t\t0: Average model inference time for one sample is not greater than 0.001\n",
       "\t13: TrainTestFeatureDrift\n",
       "\t\tConditions:\n",
       "\t\t\t0: PSI <= 0.2 and Earth Mover's Distance <= 0.1\n",
       "\t14: TrainTestLabelDrift\n",
       "\t\tConditions:\n",
       "\t\t\t0: PSI <= 0.2 and Earth Mover's Distance <= 0.1 for label drift\n",
       "\t15: WholeDatasetDrift\n",
       "\t\tConditions:\n",
       "\t\t\t0: Drift value is not greater than 0.25\n",
       "\t16: DominantFrequencyChange\n",
       "\t\tConditions:\n",
       "\t\t\t0: Change in ratio of dominant value in data is not greater than 25%\n",
       "\t17: CategoryMismatchTrainTest\n",
       "\t\tConditions:\n",
       "\t\t\t0: Ratio of samples with a new category is not greater than 0%\n",
       "\t18: NewLabelTrainTest\n",
       "\t\tConditions:\n",
       "\t\t\t0: Number of new label values is not greater than 0\n",
       "\t19: StringMismatchComparison\n",
       "\t\tConditions:\n",
       "\t\t\t0: No new variants allowed in test data\n",
       "\t20: DatasetsSizeComparison\n",
       "\t\tConditions:\n",
       "\t\t\t0: Test-Train size ratio is not smaller than 0.01\n",
       "\t21: DateTrainTestLeakageDuplicates\n",
       "\t\tConditions:\n",
       "\t\t\t0: Date leakage ratio is not greater than 0%\n",
       "\t22: DateTrainTestLeakageOverlap\n",
       "\t\tConditions:\n",
       "\t\t\t0: Date leakage ratio is not greater than 0%\n",
       "\t23: SingleFeatureContributionTrainTest(ppscore_params={})\n",
       "\t\tConditions:\n",
       "\t\t\t0: Train-Test features' Predictive Power Score difference is not greater than 0.2\n",
       "\t\t\t1: Train features' Predictive Power Score is not greater than 0.7\n",
       "\t24: TrainTestSamplesMix\n",
       "\t\tConditions:\n",
       "\t\t\t0: Percentage of test data samples that appear in train data not greater than 10%\n",
       "\t25: IdentifierLeakage(ppscore_params={})\n",
       "\t\tConditions:\n",
       "\t\t\t0: Identifier columns PPS is not greater than 0\n",
       "\t26: IndexTrainTestLeakage\n",
       "\t\tConditions:\n",
       "\t\t\t0: Ratio of leaking indices is not greater than 0%\n",
       "\t27: IsSingleValue\n",
       "\t\tConditions:\n",
       "\t\t\t0: Does not contain only a single value\n",
       "\t28: MixedNulls\n",
       "\t\tConditions:\n",
       "\t\t\t0: Not more than 1 different null types\n",
       "\t29: MixedDataTypes\n",
       "\t\tConditions:\n",
       "\t\t\t0: Rare data types in column are either more than 10% or less than 1% of the data\n",
       "\t30: StringMismatch\n",
       "\t\tConditions:\n",
       "\t\t\t0: No string variants\n",
       "\t31: DataDuplicates\n",
       "\t\tConditions:\n",
       "\t\t\t0: Duplicate data ratio is not greater than 0%\n",
       "\t32: StringLengthOutOfBounds\n",
       "\t\tConditions:\n",
       "\t\t\t0: Ratio of outliers not greater than 0% string length outliers\n",
       "\t33: SpecialCharacters\n",
       "\t\tConditions:\n",
       "\t\t\t0: Ratio of entirely special character samples not greater than 0.1%\n",
       "\t34: ConflictingLabels\n",
       "\t\tConditions:\n",
       "\t\t\t0: Ambiguous sample ratio is not greater than 0%\n",
       "\t35: OutlierSampleDetection\n",
       "]"
      ]
     },
     "execution_count": 17,
     "metadata": {},
     "output_type": "execute_result"
    }
   ],
   "source": [
    "suite"
   ]
  },
  {
   "cell_type": "code",
   "execution_count": null,
   "id": "6f1b1736",
   "metadata": {},
   "outputs": [],
   "source": []
  }
 ],
 "metadata": {
  "kernelspec": {
   "display_name": "Python 3",
   "language": "python",
   "name": "python3"
  },
  "language_info": {
   "codemirror_mode": {
    "name": "ipython",
    "version": 3
   },
   "file_extension": ".py",
   "mimetype": "text/x-python",
   "name": "python",
   "nbconvert_exporter": "python",
   "pygments_lexer": "ipython3",
   "version": "3.8.8"
  }
 },
 "nbformat": 4,
 "nbformat_minor": 5
}
